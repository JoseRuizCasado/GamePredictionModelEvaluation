{
 "cells": [
  {
   "cell_type": "markdown",
   "source": [
    "# Game Prediction Models Evaluation\n",
    "## Needed imports"
   ],
   "metadata": {
    "collapsed": false,
    "pycharm": {
     "name": "#%% md\n"
    }
   }
  },
  {
   "cell_type": "code",
   "execution_count": 1,
   "outputs": [],
   "source": [
    "import pandas as pd\n",
    "from sklearn.model_selection import train_test_split\n",
    "from sklearn.preprocessing import StandardScaler\n",
    "from sklearn.linear_model import LogisticRegression\n",
    "from sklearn import svm\n",
    "from sklearn.ensemble import VotingClassifier, RandomForestClassifier\n",
    "from sklearn.neural_network import MLPClassifier\n",
    "import matplotlib.pyplot as plt\n",
    "import statistics\n",
    "import numpy as np\n",
    "from sklearn.model_selection import KFold\n",
    "from sklearn.metrics import plot_confusion_matrix"
   ],
   "metadata": {
    "collapsed": false,
    "pycharm": {
     "name": "#%%\n",
     "is_executing": false
    }
   }
  },
  {
   "cell_type": "markdown",
   "source": [],
   "metadata": {
    "collapsed": false,
    "pycharm": {
     "name": "#%% md\n"
    }
   }
  },
  {
   "cell_type": "markdown",
   "source": [
    "## Load data"
   ],
   "metadata": {
    "collapsed": false,
    "pycharm": {
     "name": "#%% md\n"
    }
   }
  },
  {
   "cell_type": "code",
   "execution_count": 2,
   "outputs": [
    {
     "data": {
      "text/plain": "     Local_TmOffRtg  Local_TmFloor%  Local_TmDefRtg  Local_Pace  Local_TS%  \\\n0        106.326895        0.480894      100.864813   93.274918   0.579954   \n1        106.326895        0.480894      100.864813   93.274918   0.579954   \n2        106.326895        0.480894      100.864813   93.274918   0.579954   \n3        106.326895        0.480894      100.864813   93.274918   0.579954   \n4        106.326895        0.480894      100.864813   93.274918   0.579954   \n..              ...             ...             ...         ...        ...   \n627      106.494585        0.480980      119.635230   87.074037   0.566133   \n628      106.494585        0.480980      119.635230   87.074037   0.566133   \n629      106.494585        0.480980      119.635230   87.074037   0.566133   \n630      106.494585        0.480980      119.635230   87.074037   0.566133   \n631      106.494585        0.480980      119.635230   87.074037   0.566133   \n\n     Local_eFG%  Local_FTARate  Local_3FGARate  Local_TmOR%  Local_TmDR%  ...  \\\n0      0.514913       0.241137        0.316263    20.654628    74.140753  ...   \n1      0.514913       0.241137        0.316263    20.654628    74.140753  ...   \n2      0.514913       0.241137        0.316263    20.654628    74.140753  ...   \n3      0.514913       0.241137        0.316263    20.654628    74.140753  ...   \n4      0.514913       0.241137        0.316263    20.654628    74.140753  ...   \n..          ...            ...             ...          ...          ...  ...   \n627    0.487970       0.290705        0.318392    19.164345    77.393453  ...   \n628    0.487970       0.290705        0.318392    19.164345    77.393453  ...   \n629    0.487970       0.290705        0.318392    19.164345    77.393453  ...   \n630    0.487970       0.290705        0.318392    19.164345    77.393453  ...   \n631    0.487970       0.290705        0.318392    19.164345    77.393453  ...   \n\n     Visitor_TS%  Visitor_eFG%  Visitor_FTARate  Visitor_3FGARate  \\\n0       0.538690      0.477319         0.296446          0.266108   \n1       0.566133      0.487970         0.290705          0.318392   \n2       0.535670      0.477748         0.217507          0.206307   \n3       0.571810      0.508089         0.253146          0.282205   \n4       0.567381      0.478923         0.323839          0.192538   \n..           ...           ...              ...               ...   \n627     0.593453      0.523714         0.321761          0.302852   \n628     0.601352      0.521150         0.309096          0.252419   \n629     0.579954      0.514913         0.241137          0.316263   \n630     0.564315      0.490814         0.288426          0.299755   \n631     0.557686      0.482662         0.261403          0.255802   \n\n     Visitor_TmOR%  Visitor_TmDR%  Visitor_BLK%  Visitor_TOV%  Visitor_STL%  \\\n0        28.615702      77.177177      5.442698     12.049168      7.804251   \n1        19.164345      77.393453      8.911307     10.418630      6.645854   \n2        23.866896      76.325088      6.382061     13.575965      7.993861   \n3        21.128451      76.812500      6.345733     13.156047      9.519718   \n4        24.899598      76.502732      8.295123     13.517942      8.438790   \n..             ...            ...           ...           ...           ...   \n627      22.086638      74.622532      9.150613     11.785222      8.670923   \n628      31.235828      75.572519     10.282776     13.567750      7.846969   \n629      20.654628      74.140753      9.227723     13.432928     10.002664   \n630      25.589837      75.406758      7.170966     13.369487      8.775888   \n631      25.108696      75.139807      9.274194     12.258092      6.531878   \n\n     Win  \n0      0  \n1      1  \n2      1  \n3      1  \n4      0  \n..   ...  \n627    0  \n628    0  \n629    1  \n630    1  \n631    1  \n\n[632 rows x 27 columns]",
      "text/html": "<div>\n<style scoped>\n    .dataframe tbody tr th:only-of-type {\n        vertical-align: middle;\n    }\n\n    .dataframe tbody tr th {\n        vertical-align: top;\n    }\n\n    .dataframe thead th {\n        text-align: right;\n    }\n</style>\n<table border=\"1\" class=\"dataframe\">\n  <thead>\n    <tr style=\"text-align: right;\">\n      <th></th>\n      <th>Local_TmOffRtg</th>\n      <th>Local_TmFloor%</th>\n      <th>Local_TmDefRtg</th>\n      <th>Local_Pace</th>\n      <th>Local_TS%</th>\n      <th>Local_eFG%</th>\n      <th>Local_FTARate</th>\n      <th>Local_3FGARate</th>\n      <th>Local_TmOR%</th>\n      <th>Local_TmDR%</th>\n      <th>...</th>\n      <th>Visitor_TS%</th>\n      <th>Visitor_eFG%</th>\n      <th>Visitor_FTARate</th>\n      <th>Visitor_3FGARate</th>\n      <th>Visitor_TmOR%</th>\n      <th>Visitor_TmDR%</th>\n      <th>Visitor_BLK%</th>\n      <th>Visitor_TOV%</th>\n      <th>Visitor_STL%</th>\n      <th>Win</th>\n    </tr>\n  </thead>\n  <tbody>\n    <tr>\n      <th>0</th>\n      <td>106.326895</td>\n      <td>0.480894</td>\n      <td>100.864813</td>\n      <td>93.274918</td>\n      <td>0.579954</td>\n      <td>0.514913</td>\n      <td>0.241137</td>\n      <td>0.316263</td>\n      <td>20.654628</td>\n      <td>74.140753</td>\n      <td>...</td>\n      <td>0.538690</td>\n      <td>0.477319</td>\n      <td>0.296446</td>\n      <td>0.266108</td>\n      <td>28.615702</td>\n      <td>77.177177</td>\n      <td>5.442698</td>\n      <td>12.049168</td>\n      <td>7.804251</td>\n      <td>0</td>\n    </tr>\n    <tr>\n      <th>1</th>\n      <td>106.326895</td>\n      <td>0.480894</td>\n      <td>100.864813</td>\n      <td>93.274918</td>\n      <td>0.579954</td>\n      <td>0.514913</td>\n      <td>0.241137</td>\n      <td>0.316263</td>\n      <td>20.654628</td>\n      <td>74.140753</td>\n      <td>...</td>\n      <td>0.566133</td>\n      <td>0.487970</td>\n      <td>0.290705</td>\n      <td>0.318392</td>\n      <td>19.164345</td>\n      <td>77.393453</td>\n      <td>8.911307</td>\n      <td>10.418630</td>\n      <td>6.645854</td>\n      <td>1</td>\n    </tr>\n    <tr>\n      <th>2</th>\n      <td>106.326895</td>\n      <td>0.480894</td>\n      <td>100.864813</td>\n      <td>93.274918</td>\n      <td>0.579954</td>\n      <td>0.514913</td>\n      <td>0.241137</td>\n      <td>0.316263</td>\n      <td>20.654628</td>\n      <td>74.140753</td>\n      <td>...</td>\n      <td>0.535670</td>\n      <td>0.477748</td>\n      <td>0.217507</td>\n      <td>0.206307</td>\n      <td>23.866896</td>\n      <td>76.325088</td>\n      <td>6.382061</td>\n      <td>13.575965</td>\n      <td>7.993861</td>\n      <td>1</td>\n    </tr>\n    <tr>\n      <th>3</th>\n      <td>106.326895</td>\n      <td>0.480894</td>\n      <td>100.864813</td>\n      <td>93.274918</td>\n      <td>0.579954</td>\n      <td>0.514913</td>\n      <td>0.241137</td>\n      <td>0.316263</td>\n      <td>20.654628</td>\n      <td>74.140753</td>\n      <td>...</td>\n      <td>0.571810</td>\n      <td>0.508089</td>\n      <td>0.253146</td>\n      <td>0.282205</td>\n      <td>21.128451</td>\n      <td>76.812500</td>\n      <td>6.345733</td>\n      <td>13.156047</td>\n      <td>9.519718</td>\n      <td>1</td>\n    </tr>\n    <tr>\n      <th>4</th>\n      <td>106.326895</td>\n      <td>0.480894</td>\n      <td>100.864813</td>\n      <td>93.274918</td>\n      <td>0.579954</td>\n      <td>0.514913</td>\n      <td>0.241137</td>\n      <td>0.316263</td>\n      <td>20.654628</td>\n      <td>74.140753</td>\n      <td>...</td>\n      <td>0.567381</td>\n      <td>0.478923</td>\n      <td>0.323839</td>\n      <td>0.192538</td>\n      <td>24.899598</td>\n      <td>76.502732</td>\n      <td>8.295123</td>\n      <td>13.517942</td>\n      <td>8.438790</td>\n      <td>0</td>\n    </tr>\n    <tr>\n      <th>...</th>\n      <td>...</td>\n      <td>...</td>\n      <td>...</td>\n      <td>...</td>\n      <td>...</td>\n      <td>...</td>\n      <td>...</td>\n      <td>...</td>\n      <td>...</td>\n      <td>...</td>\n      <td>...</td>\n      <td>...</td>\n      <td>...</td>\n      <td>...</td>\n      <td>...</td>\n      <td>...</td>\n      <td>...</td>\n      <td>...</td>\n      <td>...</td>\n      <td>...</td>\n      <td>...</td>\n    </tr>\n    <tr>\n      <th>627</th>\n      <td>106.494585</td>\n      <td>0.480980</td>\n      <td>119.635230</td>\n      <td>87.074037</td>\n      <td>0.566133</td>\n      <td>0.487970</td>\n      <td>0.290705</td>\n      <td>0.318392</td>\n      <td>19.164345</td>\n      <td>77.393453</td>\n      <td>...</td>\n      <td>0.593453</td>\n      <td>0.523714</td>\n      <td>0.321761</td>\n      <td>0.302852</td>\n      <td>22.086638</td>\n      <td>74.622532</td>\n      <td>9.150613</td>\n      <td>11.785222</td>\n      <td>8.670923</td>\n      <td>0</td>\n    </tr>\n    <tr>\n      <th>628</th>\n      <td>106.494585</td>\n      <td>0.480980</td>\n      <td>119.635230</td>\n      <td>87.074037</td>\n      <td>0.566133</td>\n      <td>0.487970</td>\n      <td>0.290705</td>\n      <td>0.318392</td>\n      <td>19.164345</td>\n      <td>77.393453</td>\n      <td>...</td>\n      <td>0.601352</td>\n      <td>0.521150</td>\n      <td>0.309096</td>\n      <td>0.252419</td>\n      <td>31.235828</td>\n      <td>75.572519</td>\n      <td>10.282776</td>\n      <td>13.567750</td>\n      <td>7.846969</td>\n      <td>0</td>\n    </tr>\n    <tr>\n      <th>629</th>\n      <td>106.494585</td>\n      <td>0.480980</td>\n      <td>119.635230</td>\n      <td>87.074037</td>\n      <td>0.566133</td>\n      <td>0.487970</td>\n      <td>0.290705</td>\n      <td>0.318392</td>\n      <td>19.164345</td>\n      <td>77.393453</td>\n      <td>...</td>\n      <td>0.579954</td>\n      <td>0.514913</td>\n      <td>0.241137</td>\n      <td>0.316263</td>\n      <td>20.654628</td>\n      <td>74.140753</td>\n      <td>9.227723</td>\n      <td>13.432928</td>\n      <td>10.002664</td>\n      <td>1</td>\n    </tr>\n    <tr>\n      <th>630</th>\n      <td>106.494585</td>\n      <td>0.480980</td>\n      <td>119.635230</td>\n      <td>87.074037</td>\n      <td>0.566133</td>\n      <td>0.487970</td>\n      <td>0.290705</td>\n      <td>0.318392</td>\n      <td>19.164345</td>\n      <td>77.393453</td>\n      <td>...</td>\n      <td>0.564315</td>\n      <td>0.490814</td>\n      <td>0.288426</td>\n      <td>0.299755</td>\n      <td>25.589837</td>\n      <td>75.406758</td>\n      <td>7.170966</td>\n      <td>13.369487</td>\n      <td>8.775888</td>\n      <td>1</td>\n    </tr>\n    <tr>\n      <th>631</th>\n      <td>106.494585</td>\n      <td>0.480980</td>\n      <td>119.635230</td>\n      <td>87.074037</td>\n      <td>0.566133</td>\n      <td>0.487970</td>\n      <td>0.290705</td>\n      <td>0.318392</td>\n      <td>19.164345</td>\n      <td>77.393453</td>\n      <td>...</td>\n      <td>0.557686</td>\n      <td>0.482662</td>\n      <td>0.261403</td>\n      <td>0.255802</td>\n      <td>25.108696</td>\n      <td>75.139807</td>\n      <td>9.274194</td>\n      <td>12.258092</td>\n      <td>6.531878</td>\n      <td>1</td>\n    </tr>\n  </tbody>\n</table>\n<p>632 rows × 27 columns</p>\n</div>"
     },
     "metadata": {},
     "output_type": "execute_result",
     "execution_count": 2
    }
   ],
   "source": [
    "data = pd.read_csv('PredictGamesDataset.csv')\n",
    "del data['Local_Team_id']\n",
    "del data['Visitor_Team_id']\n",
    "data"
   ],
   "metadata": {
    "collapsed": false,
    "pycharm": {
     "name": "#%%\n",
     "is_executing": false
    }
   }
  },
  {
   "cell_type": "markdown",
   "source": [
    "Now we need to divide the data set into input and class for each dataset row."
   ],
   "metadata": {
    "collapsed": false,
    "pycharm": {
     "name": "#%% md\n"
    }
   }
  },
  {
   "cell_type": "code",
   "execution_count": 3,
   "outputs": [
    {
     "data": {
      "text/plain": "     Local_TmOffRtg  Local_TmFloor%  Local_TmDefRtg  Local_Pace  Local_TS%  \\\n0        106.326895        0.480894      100.864813   93.274918   0.579954   \n1        106.326895        0.480894      100.864813   93.274918   0.579954   \n2        106.326895        0.480894      100.864813   93.274918   0.579954   \n3        106.326895        0.480894      100.864813   93.274918   0.579954   \n4        106.326895        0.480894      100.864813   93.274918   0.579954   \n..              ...             ...             ...         ...        ...   \n627      106.494585        0.480980      119.635230   87.074037   0.566133   \n628      106.494585        0.480980      119.635230   87.074037   0.566133   \n629      106.494585        0.480980      119.635230   87.074037   0.566133   \n630      106.494585        0.480980      119.635230   87.074037   0.566133   \n631      106.494585        0.480980      119.635230   87.074037   0.566133   \n\n     Local_eFG%  Local_FTARate  Local_3FGARate  Local_TmOR%  Local_TmDR%  ...  \\\n0      0.514913       0.241137        0.316263    20.654628    74.140753  ...   \n1      0.514913       0.241137        0.316263    20.654628    74.140753  ...   \n2      0.514913       0.241137        0.316263    20.654628    74.140753  ...   \n3      0.514913       0.241137        0.316263    20.654628    74.140753  ...   \n4      0.514913       0.241137        0.316263    20.654628    74.140753  ...   \n..          ...            ...             ...          ...          ...  ...   \n627    0.487970       0.290705        0.318392    19.164345    77.393453  ...   \n628    0.487970       0.290705        0.318392    19.164345    77.393453  ...   \n629    0.487970       0.290705        0.318392    19.164345    77.393453  ...   \n630    0.487970       0.290705        0.318392    19.164345    77.393453  ...   \n631    0.487970       0.290705        0.318392    19.164345    77.393453  ...   \n\n     Visitor_Pace  Visitor_TS%  Visitor_eFG%  Visitor_FTARate  \\\n0       91.701077     0.538690      0.477319         0.296446   \n1       87.074037     0.566133      0.487970         0.290705   \n2       91.688075     0.535670      0.477748         0.217507   \n3       94.194271     0.571810      0.508089         0.253146   \n4       90.892768     0.567381      0.478923         0.323839   \n..            ...          ...           ...              ...   \n627     93.469083     0.593453      0.523714         0.321761   \n628     92.665032     0.601352      0.521150         0.309096   \n629     93.274918     0.579954      0.514913         0.241137   \n630     87.274997     0.564315      0.490814         0.288426   \n631     90.798947     0.557686      0.482662         0.261403   \n\n     Visitor_3FGARate  Visitor_TmOR%  Visitor_TmDR%  Visitor_BLK%  \\\n0            0.266108      28.615702      77.177177      5.442698   \n1            0.318392      19.164345      77.393453      8.911307   \n2            0.206307      23.866896      76.325088      6.382061   \n3            0.282205      21.128451      76.812500      6.345733   \n4            0.192538      24.899598      76.502732      8.295123   \n..                ...            ...            ...           ...   \n627          0.302852      22.086638      74.622532      9.150613   \n628          0.252419      31.235828      75.572519     10.282776   \n629          0.316263      20.654628      74.140753      9.227723   \n630          0.299755      25.589837      75.406758      7.170966   \n631          0.255802      25.108696      75.139807      9.274194   \n\n     Visitor_TOV%  Visitor_STL%  \n0       12.049168      7.804251  \n1       10.418630      6.645854  \n2       13.575965      7.993861  \n3       13.156047      9.519718  \n4       13.517942      8.438790  \n..            ...           ...  \n627     11.785222      8.670923  \n628     13.567750      7.846969  \n629     13.432928     10.002664  \n630     13.369487      8.775888  \n631     12.258092      6.531878  \n\n[632 rows x 26 columns]",
      "text/html": "<div>\n<style scoped>\n    .dataframe tbody tr th:only-of-type {\n        vertical-align: middle;\n    }\n\n    .dataframe tbody tr th {\n        vertical-align: top;\n    }\n\n    .dataframe thead th {\n        text-align: right;\n    }\n</style>\n<table border=\"1\" class=\"dataframe\">\n  <thead>\n    <tr style=\"text-align: right;\">\n      <th></th>\n      <th>Local_TmOffRtg</th>\n      <th>Local_TmFloor%</th>\n      <th>Local_TmDefRtg</th>\n      <th>Local_Pace</th>\n      <th>Local_TS%</th>\n      <th>Local_eFG%</th>\n      <th>Local_FTARate</th>\n      <th>Local_3FGARate</th>\n      <th>Local_TmOR%</th>\n      <th>Local_TmDR%</th>\n      <th>...</th>\n      <th>Visitor_Pace</th>\n      <th>Visitor_TS%</th>\n      <th>Visitor_eFG%</th>\n      <th>Visitor_FTARate</th>\n      <th>Visitor_3FGARate</th>\n      <th>Visitor_TmOR%</th>\n      <th>Visitor_TmDR%</th>\n      <th>Visitor_BLK%</th>\n      <th>Visitor_TOV%</th>\n      <th>Visitor_STL%</th>\n    </tr>\n  </thead>\n  <tbody>\n    <tr>\n      <th>0</th>\n      <td>106.326895</td>\n      <td>0.480894</td>\n      <td>100.864813</td>\n      <td>93.274918</td>\n      <td>0.579954</td>\n      <td>0.514913</td>\n      <td>0.241137</td>\n      <td>0.316263</td>\n      <td>20.654628</td>\n      <td>74.140753</td>\n      <td>...</td>\n      <td>91.701077</td>\n      <td>0.538690</td>\n      <td>0.477319</td>\n      <td>0.296446</td>\n      <td>0.266108</td>\n      <td>28.615702</td>\n      <td>77.177177</td>\n      <td>5.442698</td>\n      <td>12.049168</td>\n      <td>7.804251</td>\n    </tr>\n    <tr>\n      <th>1</th>\n      <td>106.326895</td>\n      <td>0.480894</td>\n      <td>100.864813</td>\n      <td>93.274918</td>\n      <td>0.579954</td>\n      <td>0.514913</td>\n      <td>0.241137</td>\n      <td>0.316263</td>\n      <td>20.654628</td>\n      <td>74.140753</td>\n      <td>...</td>\n      <td>87.074037</td>\n      <td>0.566133</td>\n      <td>0.487970</td>\n      <td>0.290705</td>\n      <td>0.318392</td>\n      <td>19.164345</td>\n      <td>77.393453</td>\n      <td>8.911307</td>\n      <td>10.418630</td>\n      <td>6.645854</td>\n    </tr>\n    <tr>\n      <th>2</th>\n      <td>106.326895</td>\n      <td>0.480894</td>\n      <td>100.864813</td>\n      <td>93.274918</td>\n      <td>0.579954</td>\n      <td>0.514913</td>\n      <td>0.241137</td>\n      <td>0.316263</td>\n      <td>20.654628</td>\n      <td>74.140753</td>\n      <td>...</td>\n      <td>91.688075</td>\n      <td>0.535670</td>\n      <td>0.477748</td>\n      <td>0.217507</td>\n      <td>0.206307</td>\n      <td>23.866896</td>\n      <td>76.325088</td>\n      <td>6.382061</td>\n      <td>13.575965</td>\n      <td>7.993861</td>\n    </tr>\n    <tr>\n      <th>3</th>\n      <td>106.326895</td>\n      <td>0.480894</td>\n      <td>100.864813</td>\n      <td>93.274918</td>\n      <td>0.579954</td>\n      <td>0.514913</td>\n      <td>0.241137</td>\n      <td>0.316263</td>\n      <td>20.654628</td>\n      <td>74.140753</td>\n      <td>...</td>\n      <td>94.194271</td>\n      <td>0.571810</td>\n      <td>0.508089</td>\n      <td>0.253146</td>\n      <td>0.282205</td>\n      <td>21.128451</td>\n      <td>76.812500</td>\n      <td>6.345733</td>\n      <td>13.156047</td>\n      <td>9.519718</td>\n    </tr>\n    <tr>\n      <th>4</th>\n      <td>106.326895</td>\n      <td>0.480894</td>\n      <td>100.864813</td>\n      <td>93.274918</td>\n      <td>0.579954</td>\n      <td>0.514913</td>\n      <td>0.241137</td>\n      <td>0.316263</td>\n      <td>20.654628</td>\n      <td>74.140753</td>\n      <td>...</td>\n      <td>90.892768</td>\n      <td>0.567381</td>\n      <td>0.478923</td>\n      <td>0.323839</td>\n      <td>0.192538</td>\n      <td>24.899598</td>\n      <td>76.502732</td>\n      <td>8.295123</td>\n      <td>13.517942</td>\n      <td>8.438790</td>\n    </tr>\n    <tr>\n      <th>...</th>\n      <td>...</td>\n      <td>...</td>\n      <td>...</td>\n      <td>...</td>\n      <td>...</td>\n      <td>...</td>\n      <td>...</td>\n      <td>...</td>\n      <td>...</td>\n      <td>...</td>\n      <td>...</td>\n      <td>...</td>\n      <td>...</td>\n      <td>...</td>\n      <td>...</td>\n      <td>...</td>\n      <td>...</td>\n      <td>...</td>\n      <td>...</td>\n      <td>...</td>\n      <td>...</td>\n    </tr>\n    <tr>\n      <th>627</th>\n      <td>106.494585</td>\n      <td>0.480980</td>\n      <td>119.635230</td>\n      <td>87.074037</td>\n      <td>0.566133</td>\n      <td>0.487970</td>\n      <td>0.290705</td>\n      <td>0.318392</td>\n      <td>19.164345</td>\n      <td>77.393453</td>\n      <td>...</td>\n      <td>93.469083</td>\n      <td>0.593453</td>\n      <td>0.523714</td>\n      <td>0.321761</td>\n      <td>0.302852</td>\n      <td>22.086638</td>\n      <td>74.622532</td>\n      <td>9.150613</td>\n      <td>11.785222</td>\n      <td>8.670923</td>\n    </tr>\n    <tr>\n      <th>628</th>\n      <td>106.494585</td>\n      <td>0.480980</td>\n      <td>119.635230</td>\n      <td>87.074037</td>\n      <td>0.566133</td>\n      <td>0.487970</td>\n      <td>0.290705</td>\n      <td>0.318392</td>\n      <td>19.164345</td>\n      <td>77.393453</td>\n      <td>...</td>\n      <td>92.665032</td>\n      <td>0.601352</td>\n      <td>0.521150</td>\n      <td>0.309096</td>\n      <td>0.252419</td>\n      <td>31.235828</td>\n      <td>75.572519</td>\n      <td>10.282776</td>\n      <td>13.567750</td>\n      <td>7.846969</td>\n    </tr>\n    <tr>\n      <th>629</th>\n      <td>106.494585</td>\n      <td>0.480980</td>\n      <td>119.635230</td>\n      <td>87.074037</td>\n      <td>0.566133</td>\n      <td>0.487970</td>\n      <td>0.290705</td>\n      <td>0.318392</td>\n      <td>19.164345</td>\n      <td>77.393453</td>\n      <td>...</td>\n      <td>93.274918</td>\n      <td>0.579954</td>\n      <td>0.514913</td>\n      <td>0.241137</td>\n      <td>0.316263</td>\n      <td>20.654628</td>\n      <td>74.140753</td>\n      <td>9.227723</td>\n      <td>13.432928</td>\n      <td>10.002664</td>\n    </tr>\n    <tr>\n      <th>630</th>\n      <td>106.494585</td>\n      <td>0.480980</td>\n      <td>119.635230</td>\n      <td>87.074037</td>\n      <td>0.566133</td>\n      <td>0.487970</td>\n      <td>0.290705</td>\n      <td>0.318392</td>\n      <td>19.164345</td>\n      <td>77.393453</td>\n      <td>...</td>\n      <td>87.274997</td>\n      <td>0.564315</td>\n      <td>0.490814</td>\n      <td>0.288426</td>\n      <td>0.299755</td>\n      <td>25.589837</td>\n      <td>75.406758</td>\n      <td>7.170966</td>\n      <td>13.369487</td>\n      <td>8.775888</td>\n    </tr>\n    <tr>\n      <th>631</th>\n      <td>106.494585</td>\n      <td>0.480980</td>\n      <td>119.635230</td>\n      <td>87.074037</td>\n      <td>0.566133</td>\n      <td>0.487970</td>\n      <td>0.290705</td>\n      <td>0.318392</td>\n      <td>19.164345</td>\n      <td>77.393453</td>\n      <td>...</td>\n      <td>90.798947</td>\n      <td>0.557686</td>\n      <td>0.482662</td>\n      <td>0.261403</td>\n      <td>0.255802</td>\n      <td>25.108696</td>\n      <td>75.139807</td>\n      <td>9.274194</td>\n      <td>12.258092</td>\n      <td>6.531878</td>\n    </tr>\n  </tbody>\n</table>\n<p>632 rows × 26 columns</p>\n</div>"
     },
     "metadata": {},
     "output_type": "execute_result",
     "execution_count": 3
    }
   ],
   "source": [
    "X_unscaled = data.iloc[:, :26]\n",
    "X_unscaled"
   ],
   "metadata": {
    "collapsed": false,
    "pycharm": {
     "name": "#%%\n",
     "is_executing": false
    }
   }
  },
  {
   "cell_type": "code",
   "execution_count": 4,
   "outputs": [
    {
     "data": {
      "text/plain": "0      0\n1      1\n2      1\n3      1\n4      0\n      ..\n627    0\n628    0\n629    1\n630    1\n631    1\nName: Win, Length: 632, dtype: int64"
     },
     "metadata": {},
     "output_type": "execute_result",
     "execution_count": 4
    }
   ],
   "source": [
    "Y = data.iloc[:, 26]\n",
    "Y"
   ],
   "metadata": {
    "collapsed": false,
    "pycharm": {
     "name": "#%%\n",
     "is_executing": false
    }
   }
  },
  {
   "cell_type": "markdown",
   "source": [
    "As seen in the input data it is necessary to pre-process the data. Differences in the scales across input variables may\n",
    "increase the difficulty of the problem being modeled. An example of this is that large input values can result in a\n",
    "model that learns large weight values. A model with large weight values is often unstable, meaning that it may suffer\n",
    "from poor performance during learning and sensitivity to input values resulting in higher generalization error."
   ],
   "metadata": {
    "collapsed": false,
    "pycharm": {
     "name": "#%% md\n"
    }
   }
  },
  {
   "cell_type": "code",
   "execution_count": 5,
   "outputs": [
    {
     "data": {
      "text/plain": "array([[ 0.02104002, -0.3888855 , -0.81763465, ..., -1.80736562,\n        -0.85192723, -0.33766863],\n       [ 0.02104002, -0.3888855 , -0.81763465, ...,  0.49753131,\n        -2.40555684, -1.34760684],\n       [ 0.02104002, -0.3888855 , -0.81763465, ..., -1.18315728,\n         0.6028549 , -0.17235959],\n       ...,\n       [ 0.06623411, -0.38345585,  2.03779632, ...,  0.70778998,\n         0.46656447,  1.57899721],\n       [ 0.06623411, -0.38345585,  2.03779632, ..., -0.65892841,\n         0.40611638,  0.50944393],\n       [ 0.06623411, -0.38345585,  2.03779632, ...,  0.7386699 ,\n        -0.65285782, -1.44697559]])"
     },
     "metadata": {},
     "output_type": "execute_result",
     "execution_count": 5
    }
   ],
   "source": [
    "scaler = StandardScaler()\n",
    "scaler.fit(X_unscaled)\n",
    "X = scaler.transform(X_unscaled)\n",
    "X"
   ],
   "metadata": {
    "collapsed": false,
    "pycharm": {
     "name": "#%%\n",
     "is_executing": false
    }
   }
  },
  {
   "cell_type": "markdown",
   "source": [
    "Whe we the have data scaled, it is time to divide the original data set into training set and test set. The test set\n",
    "size will be th 20% of the original dataset. Stratifying the data by the results, we manage to maintain the percentages\n",
    "of each class in both resulting sets."
   ],
   "metadata": {
    "collapsed": false,
    "pycharm": {
     "name": "#%% md\n"
    }
   }
  },
  {
   "cell_type": "markdown",
   "source": [
    "## Building Classifier Models\n",
    "We are going to evaluate different models:\n",
    "* Logistic Regression. All different solver will be evaluates (lbfgs, newton-cg, liblinear, sag, saga).\n",
    "* Support Vector Machines. For classification Linear Support Vector Classifier will be used.\n",
    "* Random Forest.\n",
    "* Neuronal Network. For this classification Multi Layer Perceptron Classifier will be evaluated with different solvers\n",
    "(lbfgs, sgd, adam)\n",
    "\n",
    "The models will trained  in loop for 30 times to obtain the mean accuracy, then we will calculate the deviation to\n",
    "display in a plot. In each iteration of the loop the dataset will be splited in training and test set."
   ],
   "metadata": {
    "collapsed": false,
    "pycharm": {
     "name": "#%% md\n"
    }
   }
  },
  {
   "cell_type": "code",
   "execution_count": 6,
   "outputs": [
    {
     "name": "stderr",
     "text": [
      "/Users/joseluisruizcasado/anaconda3/envs/tfg-django-scikit/lib/python3.7/site-packages/sklearn/linear_model/_sag.py:330: ConvergenceWarning: The max_iter was reached which means the coef_ did not converge\n",
      "  \"the coef_ did not converge\", ConvergenceWarning)\n",
      "/Users/joseluisruizcasado/anaconda3/envs/tfg-django-scikit/lib/python3.7/site-packages/sklearn/linear_model/_sag.py:330: ConvergenceWarning: The max_iter was reached which means the coef_ did not converge\n",
      "  \"the coef_ did not converge\", ConvergenceWarning)\n",
      "/Users/joseluisruizcasado/anaconda3/envs/tfg-django-scikit/lib/python3.7/site-packages/sklearn/linear_model/_sag.py:330: ConvergenceWarning: The max_iter was reached which means the coef_ did not converge\n",
      "  \"the coef_ did not converge\", ConvergenceWarning)\n",
      "/Users/joseluisruizcasado/anaconda3/envs/tfg-django-scikit/lib/python3.7/site-packages/sklearn/linear_model/_sag.py:330: ConvergenceWarning: The max_iter was reached which means the coef_ did not converge\n",
      "  \"the coef_ did not converge\", ConvergenceWarning)\n",
      "/Users/joseluisruizcasado/anaconda3/envs/tfg-django-scikit/lib/python3.7/site-packages/sklearn/linear_model/_sag.py:330: ConvergenceWarning: The max_iter was reached which means the coef_ did not converge\n",
      "  \"the coef_ did not converge\", ConvergenceWarning)\n"
     ],
     "output_type": "stream"
    },
    {
     "name": "stdout",
     "text": [
      "Logistic Regression solver=lbfgs -> train scores: [0.699009900990099, 0.699009900990099, 0.7015810276679841, 0.7015810276679841, 0.6976284584980237] test scores: [0.6220472440944882, 0.6850393700787402, 0.626984126984127, 0.7142857142857143, 0.5396825396825397]\n",
      "Logistic Regression solver=newton-cg -> train scores: [0.699009900990099, 0.699009900990099, 0.7015810276679841, 0.7015810276679841, 0.6976284584980237] test scores: [0.6220472440944882, 0.6850393700787402, 0.626984126984127, 0.7142857142857143, 0.5396825396825397]\n",
      "Logistic Regression solver=liblinear -> train scores: [0.699009900990099, 0.700990099009901, 0.6996047430830039, 0.7015810276679841, 0.691699604743083] test scores: [0.6220472440944882, 0.6850393700787402, 0.6349206349206349, 0.7063492063492064, 0.5396825396825397]\n",
      "Logistic Regression solver=sag -> train scores: [0.699009900990099, 0.699009900990099, 0.7015810276679841, 0.7015810276679841, 0.6976284584980237] test scores: [0.6220472440944882, 0.6850393700787402, 0.626984126984127, 0.7142857142857143, 0.5396825396825397]\n",
      "Logistic Regression solver=saga -> train scores: [0.699009900990099, 0.699009900990099, 0.7015810276679841, 0.7015810276679841, 0.6976284584980237] test scores: [0.6220472440944882, 0.6850393700787402, 0.626984126984127, 0.7142857142857143, 0.5396825396825397]\n",
      "Support Vector Machines -> train scores: [0.7029702970297029, 0.7069306930693069, 0.7055335968379447, 0.7134387351778656, 0.7094861660079052] test scores: [0.5905511811023622, 0.6377952755905512, 0.5952380952380952, 0.7063492063492064, 0.5238095238095238]\n",
      "Random Forest -> train scores: [0.9425742574257425, 0.9386138613861386, 0.9407114624505929, 0.9387351778656127, 0.9426877470355731] test scores: [0.6456692913385826, 0.6692913385826772, 0.5555555555555556, 0.6825396825396826, 0.5793650793650794]\n",
      "Neuronal Network solver=lbfgs -> train scores: [0.9425742574257425, 0.9386138613861386, 0.9407114624505929, 0.9387351778656127, 0.9426877470355731] test scores: [0.5826771653543307, 0.6062992125984252, 0.49206349206349204, 0.5873015873015873, 0.49206349206349204]\n",
      "Neuronal Network solver=sgd -> train scores: [0.7663366336633664, 0.7742574257425743, 0.7707509881422925, 0.7628458498023716, 0.7490118577075099] test scores: [0.6062992125984252, 0.6299212598425197, 0.5793650793650794, 0.7222222222222222, 0.6507936507936508]\n",
      "Neuronal Network solver=adam -> train scores: [0.9425742574257425, 0.9386138613861386, 0.9407114624505929, 0.9387351778656127, 0.9426877470355731] test scores: [0.5826771653543307, 0.5984251968503937, 0.5, 0.6904761904761905, 0.5476190476190477]\n"
     ],
     "output_type": "stream"
    }
   ],
   "source": [
    "train_accuracy_LR_lbfgs = []\n",
    "test_accuracy_LR_lbfgs = []\n",
    "train_accuracy_LR_newton_cg = []\n",
    "test_accuracy_LR_newton_cg = []\n",
    "train_accuracy_LR_liblinear = []\n",
    "test_accuracy_LR_liblinear = []\n",
    "train_accuracy_LR_sag = []\n",
    "test_accuracy_LR_sag = []\n",
    "train_accuracy_LR_saga= []\n",
    "test_accuracy_LR_saga= []\n",
    "train_accuracy_SVM = []\n",
    "test_accuracy_SVM = []\n",
    "train_accuracy_RF = []\n",
    "test_accuracy_RF = []\n",
    "train_accuracy_NN_lbfgs = []\n",
    "test_accuracy_NN_lbfgs = []\n",
    "train_accuracy_NN_sgd = []\n",
    "test_accuracy_NN_sgd = []\n",
    "train_accuracy_NN_adam = []\n",
    "test_accuracy_NN_adam = []\n",
    "k_fold = KFold()\n",
    "for k, (train, test) in enumerate(k_fold.split(X, Y)):\n",
    "\n",
    "    LR_lbfgs = LogisticRegression(random_state=0, solver='lbfgs', multi_class='ovr').fit(X[train], Y[train])\n",
    "    train_accuracy_LR_lbfgs.append(LR_lbfgs.score(X[train], Y[train]))\n",
    "    test_accuracy_LR_lbfgs.append(LR_lbfgs.score(X[test], Y[test]))\n",
    "    LR_newton_cg = LogisticRegression(random_state=0, solver='newton-cg', multi_class='ovr').fit(X[train], Y[train])\n",
    "    train_accuracy_LR_newton_cg.append(LR_newton_cg.score(X[train], Y[train]))\n",
    "    test_accuracy_LR_newton_cg.append(LR_newton_cg.score(X[test], Y[test]))\n",
    "    LR_liblinear = LogisticRegression(random_state=0, solver='liblinear', multi_class='ovr').fit(X[train], Y[train])\n",
    "    train_accuracy_LR_liblinear.append(LR_liblinear.score(X[train], Y[train]))\n",
    "    test_accuracy_LR_liblinear.append(LR_liblinear.score(X[test], Y[test]))\n",
    "    LR_sag = LogisticRegression(random_state=0, solver='sag', multi_class='ovr').fit(X[train], Y[train])\n",
    "    train_accuracy_LR_sag.append(LR_sag.score(X[train], Y[train]))\n",
    "    test_accuracy_LR_sag.append(LR_sag.score(X[test], Y[test]))\n",
    "    LR_saga = LogisticRegression(random_state=0, solver='saga', multi_class='ovr').fit(X[train], Y[train])\n",
    "    train_accuracy_LR_saga.append(LR_saga.score(X[train], Y[train]))\n",
    "    test_accuracy_LR_saga.append(LR_saga.score(X[test], Y[test]))\n",
    "\n",
    "    SVM = svm.SVC(kernel='linear', probability=True).fit(X[train], Y[train])\n",
    "    train_accuracy_SVM.append(SVM.score(X[train], Y[train]))\n",
    "    test_accuracy_SVM.append(SVM.score(X[test], Y[test]))\n",
    "\n",
    "    RF = RandomForestClassifier().fit(X[train], Y[train])\n",
    "    train_accuracy_RF.append(RF.score(X[train], Y[train]))\n",
    "    test_accuracy_RF.append(RF.score(X[test], Y[test]))\n",
    "\n",
    "    NN_lbfgs = MLPClassifier(solver='lbfgs', alpha=1e-5, random_state=1, max_iter=5000).fit(X[train], Y[train])\n",
    "    train_accuracy_NN_lbfgs.append(NN_lbfgs.score(X[train], Y[train]))\n",
    "    test_accuracy_NN_lbfgs.append(NN_lbfgs.score(X[test], Y[test]))\n",
    "    NN_sgd = MLPClassifier(solver='sgd', alpha=1e-5, random_state=1, max_iter=5000).fit(X[train], Y[train])\n",
    "    train_accuracy_NN_sgd.append(NN_sgd.score(X[train], Y[train]))\n",
    "    test_accuracy_NN_sgd.append(NN_sgd.score(X[test], Y[test]))\n",
    "    NN_adam = MLPClassifier(solver='adam', alpha=1e-5, random_state=1, max_iter=5000).fit(X[train], Y[train])\n",
    "    train_accuracy_NN_adam.append(NN_adam.score(X[train], Y[train]))\n",
    "    test_accuracy_NN_adam.append(NN_adam.score(X[test], Y[test]))\n",
    "\n",
    "print(f'Logistic Regression solver=lbfgs -> train scores: {train_accuracy_LR_lbfgs} test scores: {test_accuracy_LR_lbfgs}')\n",
    "print(f'Logistic Regression solver=newton-cg -> train scores: {train_accuracy_LR_newton_cg} '\n",
    "      f'test scores: {test_accuracy_LR_newton_cg}')\n",
    "print(f'Logistic Regression solver=liblinear -> train scores: {train_accuracy_LR_liblinear} '\n",
    "      f'test scores: {test_accuracy_LR_liblinear}')\n",
    "print(f'Logistic Regression solver=sag -> train scores: {train_accuracy_LR_sag} test scores: {test_accuracy_LR_sag}')\n",
    "print(f'Logistic Regression solver=saga -> train scores: {train_accuracy_LR_saga} test scores: {test_accuracy_LR_saga}')\n",
    "print(f'Support Vector Machines -> train scores: {train_accuracy_SVM} test scores: {test_accuracy_SVM}')\n",
    "print(f'Random Forest -> train scores: {train_accuracy_RF} test scores: {test_accuracy_RF}')\n",
    "print(f'Neuronal Network solver=lbfgs -> train scores: {train_accuracy_NN_lbfgs} test scores: {test_accuracy_NN_lbfgs}')\n",
    "print(f'Neuronal Network solver=sgd -> train scores: {train_accuracy_NN_sgd} test scores: {test_accuracy_NN_sgd}')\n",
    "print(f'Neuronal Network solver=adam -> train scores: {train_accuracy_NN_adam} test scores: {test_accuracy_NN_adam}')"
   ],
   "metadata": {
    "collapsed": false,
    "pycharm": {
     "name": "#%%\n",
     "is_executing": false
    }
   }
  },
  {
   "cell_type": "markdown",
   "source": [
    "## Plotting the data\n",
    "With stored accuracy for training and test set of each model the mean precision and standard deviation are plotted."
   ],
   "metadata": {
    "collapsed": false,
    "pycharm": {
     "name": "#%% md\n"
    }
   }
  },
  {
   "cell_type": "code",
   "execution_count": 7,
   "outputs": [
    {
     "name": "stdout",
     "text": [
      "ind: [0 1 2 3 4 5 6 7 8 9] Mean: (10,), sv (10,)\n"
     ],
     "output_type": "stream"
    },
    {
     "data": {
      "text/plain": "<Figure size 1120x960 with 1 Axes>",
      "image/png": "[encoded data removed]"
     },
     "metadata": {
      "needs_background": "light"
     },
     "output_type": "display_data"
    }
   ],
   "source": [
    "models = ['LR-lbfgs', 'L-newton-cg', 'LR-liblinear','LR-sag', 'LR-saga', 'SVM', 'RF', 'NN-lbfgs', 'NN-sgd', 'NN-adam']\n",
    "ind = np.arange(10)\n",
    "train_means_list = [sum(train_accuracy_LR_lbfgs)/len(train_accuracy_LR_lbfgs),\n",
    "               sum(train_accuracy_LR_newton_cg)/len(train_accuracy_LR_newton_cg),\n",
    "               sum(train_accuracy_LR_liblinear)/len(train_accuracy_LR_liblinear),\n",
    "               sum(train_accuracy_LR_sag)/len(train_accuracy_LR_sag),\n",
    "               sum(train_accuracy_LR_saga)/len(train_accuracy_LR_saga),\n",
    "               sum(train_accuracy_SVM)/len(train_accuracy_SVM),\n",
    "               sum(train_accuracy_RF)/len(train_accuracy_RF),\n",
    "               sum(train_accuracy_NN_lbfgs)/len(train_accuracy_NN_lbfgs),\n",
    "               sum(train_accuracy_NN_sgd)/len(train_accuracy_NN_sgd),\n",
    "               sum(train_accuracy_NN_adam)/len(train_accuracy_NN_adam)\n",
    "]\n",
    "train_standar_deviation_list = [\n",
    "    statistics.stdev(train_accuracy_LR_lbfgs),\n",
    "    statistics.stdev(train_accuracy_LR_newton_cg),\n",
    "    statistics.stdev(train_accuracy_LR_liblinear),\n",
    "    statistics.stdev(train_accuracy_LR_sag),\n",
    "    statistics.stdev(train_accuracy_LR_saga),\n",
    "    statistics.stdev(train_accuracy_SVM),\n",
    "    statistics.stdev(train_accuracy_RF),\n",
    "    statistics.stdev(train_accuracy_NN_lbfgs),\n",
    "    statistics.stdev(train_accuracy_NN_sgd),\n",
    "    statistics.stdev(train_accuracy_NN_adam),\n",
    "]\n",
    "test_means_list = [sum(test_accuracy_LR_lbfgs)/len(test_accuracy_LR_lbfgs),\n",
    "               sum(test_accuracy_LR_newton_cg)/len(test_accuracy_LR_newton_cg),\n",
    "               sum(test_accuracy_LR_liblinear)/len(test_accuracy_LR_liblinear),\n",
    "               sum(test_accuracy_LR_sag)/len(test_accuracy_LR_sag),\n",
    "               sum(test_accuracy_LR_saga)/len(test_accuracy_LR_saga),\n",
    "               sum(test_accuracy_SVM)/len(test_accuracy_SVM),\n",
    "               sum(test_accuracy_RF)/len(test_accuracy_RF),\n",
    "               sum(test_accuracy_NN_lbfgs)/len(test_accuracy_NN_lbfgs),\n",
    "               sum(test_accuracy_NN_sgd)/len(test_accuracy_NN_sgd),\n",
    "               sum(test_accuracy_NN_adam)/len(test_accuracy_NN_adam)\n",
    "]\n",
    "test_standar_deviation_list = [\n",
    "    statistics.stdev(test_accuracy_LR_lbfgs),\n",
    "    statistics.stdev(test_accuracy_LR_newton_cg),\n",
    "    statistics.stdev(test_accuracy_LR_liblinear),\n",
    "    statistics.stdev(test_accuracy_LR_sag),\n",
    "    statistics.stdev(test_accuracy_LR_saga),\n",
    "    statistics.stdev(test_accuracy_SVM),\n",
    "    statistics.stdev(test_accuracy_RF),\n",
    "    statistics.stdev(test_accuracy_NN_lbfgs),\n",
    "    statistics.stdev(test_accuracy_NN_sgd),\n",
    "    statistics.stdev(test_accuracy_NN_adam),\n",
    "]\n",
    "train_means = np.array(train_means_list)\n",
    "train_standar_deviation = np.array(train_standar_deviation_list)\n",
    "test_means = np.array(test_means_list)\n",
    "test_standar_deviation = np.array(test_standar_deviation_list)\n",
    "print(f'ind: {ind} Mean: {test_means.shape}, sv {test_standar_deviation.shape}')\n",
    "width = 0.35\n",
    "plt.figure(figsize=(14, 12), dpi=80)\n",
    "plt.bar(ind, test_means, width=width, yerr=test_standar_deviation, label='Test Score')\n",
    "plt.bar(ind + width, train_means, width=width,yerr=train_standar_deviation, label='Train Score')\n",
    "plt.ylabel('Score')\n",
    "plt.title('Scores of each model')\n",
    "plt.xticks(ind + width / 2, models)\n",
    "plt.legend()\n",
    "plt.savefig('models-study-figures/models-score.png')\n",
    "plt.show()"
   ],
   "metadata": {
    "collapsed": false,
    "pycharm": {
     "name": "#%%\n",
     "is_executing": false
    }
   }
  },
  {
   "cell_type": "markdown",
   "source": [
    "## Confusion Matrices\n",
    "For each model we generate a confusion matrix."
   ],
   "metadata": {
    "collapsed": false
   }
  },
  {
   "cell_type": "code",
   "execution_count": 10,
   "outputs": [
    {
     "data": {
      "text/plain": "<Figure size 432x288 with 2 Axes>",
      "image/png": "[encoded data removed]"
     },
     "metadata": {
      "needs_background": "light"
     },
     "output_type": "display_data"
    }
   ],
   "source": [
    "x_train, x_test, y_train, y_test = train_test_split(X, Y, test_size=0.2, random_state=0)\n",
    "\n",
    "plot_confusion_matrix(LR_lbfgs, x_test, y_test, display_labels=['Lose', 'Win'], cmap=plt.cm.Blues, normalize=None)\n",
    "\n",
    "plt.title('LR lbfgs solver confusion matrix')\n",
    "\n",
    "plt.savefig('models-study-figures/lr-lbfgs.png')\n",
    "plt.show()"
   ],
   "metadata": {
    "collapsed": false,
    "pycharm": {
     "name": "#%%\n",
     "is_executing": false
    }
   }
  }
 ],
 "metadata": {
  "kernelspec": {
   "name": "python3",
   "language": "python",
   "display_name": "Python 3"
  },
  "language_info": {
   "codemirror_mode": {
    "name": "ipython",
    "version": 2
   },
   "file_extension": ".py",
   "mimetype": "text/x-python",
   "name": "python",
   "nbconvert_exporter": "python",
   "pygments_lexer": "ipython2",
   "version": "2.7.6"
  },
  "pycharm": {
   "stem_cell": {
    "cell_type": "raw",
    "source": [],
    "metadata": {
     "collapsed": false
    }
   }
  }
 },
 "nbformat": 4,
 "nbformat_minor": 0
}